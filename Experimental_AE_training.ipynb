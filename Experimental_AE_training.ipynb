{
 "cells": [
  {
   "cell_type": "code",
   "execution_count": 1,
   "id": "subsequent-contest",
   "metadata": {},
   "outputs": [],
   "source": [
    "from Project4.verification_net import VerificationNet\n",
    "from Project4.stacked_mnist import StackedMNISTData, DataMode\n",
    "from gen_autoencoder_routine import Generative_AE_Routine\n",
    "import torch"
   ]
  },
  {
   "cell_type": "code",
   "execution_count": 2,
   "id": "consistent-courtesy",
   "metadata": {},
   "outputs": [
    {
     "name": "stdout",
     "output_type": "stream",
     "text": [
      "Autoencoder(\n",
      "  (encoder): Encoder(\n",
      "    (model): Sequential(\n",
      "      (0): Conv2d(1, 16, kernel_size=(3, 3), stride=(3, 3), padding=(1, 1))\n",
      "      (1): BatchNorm2d(16, eps=1e-05, momentum=0.1, affine=True, track_running_stats=True)\n",
      "      (2): Conv2d(16, 16, kernel_size=(3, 3), stride=(1, 1), padding=(1, 1))\n",
      "      (3): ReLU()\n",
      "      (4): Flatten(start_dim=1, end_dim=-1)\n",
      "      (5): Linear(in_features=1600, out_features=64, bias=True)\n",
      "    )\n",
      "  )\n",
      "  (decoder): Decoder(\n",
      "    (model): Sequential(\n",
      "      (0): Linear(in_features=64, out_features=1600, bias=True)\n",
      "      (1): Unflatten(dim=1, unflattened_size=(16, 10, 10))\n",
      "      (2): ConvTranspose2d(16, 16, kernel_size=(3, 3), stride=(1, 1), padding=(1, 1))\n",
      "      (3): BatchNorm2d(16, eps=1e-05, momentum=0.1, affine=True, track_running_stats=True)\n",
      "      (4): ConvTranspose2d(16, 1, kernel_size=(3, 3), stride=(3, 3), padding=(1, 1))\n",
      "      (5): ReLU()\n",
      "      (6): Sigmoid()\n",
      "    )\n",
      "  )\n",
      ")\n"
     ]
    }
   ],
   "source": [
    "torch.manual_seed(1)\n",
    "\"\"\" GENERATIVE AUTOENCODER ROUTINE\"\"\"\n",
    "batch_size = 16\n",
    "data_object = StackedMNISTData(mode=DataMode.MONO_FLOAT_COMPLETE, default_batch_size=batch_size)\n",
    "#instantiate verification network\n",
    "net = VerificationNet(force_learn=False)\n",
    "net.train(generator=data_object, epochs=5) # gen=data_object, makes sure we test on the same type of data as the model was trained on\n",
    "verification_tolerance = 0.8 if data_object.channels == 1 else 0.5\n",
    "\n",
    "autoencoder_learning_rate = 0.002\n",
    "autoencoder_loss_function = 'MSE' #'binary_cross_entropy'  # AVAILABLE 'binary_cross_entropy'\n",
    "autoencoder_optimizer = 'SGD'#  # AVAILABLE 'SGD' # #'adam'#\n",
    "autoencoder_epochs = 5  # Optimal for MNIST: 3\n",
    "\n",
    "num_samples = 200\n",
    "latent_vector_size = 64  # recommended for MNIST between 16 and 64\n",
    "gen_name ='2_conv_layers_lvs:_64_filters:16_lldim:32,4,4_epochs:5'\n",
    "gen_ae_save_path = f'checkpoints/gen_AE/{gen_name}'\n",
    "gen_autoencoder = Generative_AE_Routine(\n",
    "    data_object,\n",
    "    autoencoder_learning_rate,\n",
    "    autoencoder_loss_function,\n",
    "    autoencoder_optimizer,\n",
    "    autoencoder_epochs,\n",
    "\n",
    "    latent_vector_size,\n",
    "    batch_size,\n",
    "    num_samples,\n",
    "    gen_ae_save_path\n",
    ")"
   ]
  },
  {
   "cell_type": "code",
   "execution_count": null,
   "id": "excellent-budapest",
   "metadata": {},
   "outputs": [
    {
     "name": "stdout",
     "output_type": "stream",
     "text": [
      "\n",
      "GENERATIVE AUTOENCODER TRAINING\n",
      "\n",
      "Epoch: 0, Iteration: 1875, Validation loss: 1.3445, Validation accuracy N/A\n",
      "Epoch: 0, Iteration: 3750, Validation loss: 1.3144, Validation accuracy N/A\n",
      "Epoch: 1, Iteration: 5625, Validation loss: 1.2945, Validation accuracy N/A\n",
      "Epoch: 1, Iteration: 7500, Validation loss: 1.2754, Validation accuracy N/A\n",
      "Epoch: 2, Iteration: 9375, Validation loss: 1.2566, Validation accuracy N/A\n",
      "Epoch: 2, Iteration: 11250, Validation loss: 1.2424, Validation accuracy N/A\n"
     ]
    }
   ],
   "source": [
    "gen_autoencoder.train_autoencoder()\n",
    "images, reconstructions, labels = gen_autoencoder.reconstruct_test_data()\n",
    "#Check quality of reconstructions\n",
    "gen_autoencoder.check_autoencoder_performance(net, verification_tolerance, reconstructions, labels)\n",
    "\n",
    "#Generate samples\n",
    "generated_images = gen_autoencoder.generate_samples()\n",
    "\n",
    "#check quality of generated images\n",
    "gen_autoencoder.check_autoencoder_performance(net, verification_tolerance, generated_images)"
   ]
  },
  {
   "cell_type": "code",
   "execution_count": null,
   "id": "spoken-finnish",
   "metadata": {},
   "outputs": [],
   "source": []
  }
 ],
 "metadata": {
  "kernelspec": {
   "display_name": "Python 3",
   "language": "python",
   "name": "python3"
  },
  "language_info": {
   "codemirror_mode": {
    "name": "ipython",
    "version": 3
   },
   "file_extension": ".py",
   "mimetype": "text/x-python",
   "name": "python",
   "nbconvert_exporter": "python",
   "pygments_lexer": "ipython3",
   "version": "3.8.5"
  }
 },
 "nbformat": 4,
 "nbformat_minor": 5
}
