{
 "cells": [
  {
   "cell_type": "code",
   "execution_count": 1,
   "id": "minor-round",
   "metadata": {},
   "outputs": [],
   "source": [
    "from Project4.verification_net import VerificationNet\n",
    "from Project4.stacked_mnist import StackedMNISTData, DataMode\n",
    "from var_ae_routine import VAE_Routine\n",
    "import torch"
   ]
  },
  {
   "cell_type": "code",
   "execution_count": null,
   "id": "fundamental-lottery",
   "metadata": {},
   "outputs": [
    {
     "name": "stdout",
     "output_type": "stream",
     "text": [
      "VAE(\n",
      "  (encoder): Encoder(\n",
      "    (body): Sequential(\n",
      "      (0): Conv2d(1, 32, kernel_size=(3, 3), stride=(3, 3), padding=(1, 1))\n",
      "      (1): BatchNorm2d(32, eps=1e-05, momentum=0.1, affine=True, track_running_stats=True)\n",
      "      (2): Conv2d(32, 16, kernel_size=(3, 3), stride=(3, 3), padding=(1, 1))\n",
      "      (3): BatchNorm2d(16, eps=1e-05, momentum=0.1, affine=True, track_running_stats=True)\n",
      "      (4): Conv2d(16, 8, kernel_size=(3, 3), stride=(1, 1), padding=(1, 1))\n",
      "      (5): ReLU()\n",
      "      (6): Flatten(start_dim=1, end_dim=-1)\n",
      "    )\n",
      "    (mean_layer): Linear(in_features=128, out_features=256, bias=True)\n",
      "    (log_std_layer): Linear(in_features=128, out_features=256, bias=True)\n",
      "  )\n",
      "  (decoder): Decoder(\n",
      "    (model): Sequential(\n",
      "      (0): Linear(in_features=256, out_features=128, bias=True)\n",
      "      (1): Unflatten(dim=1, unflattened_size=(8, 4, 4))\n",
      "      (2): ConvTranspose2d(8, 16, kernel_size=(3, 3), stride=(1, 1), padding=(1, 1))\n",
      "      (3): LeakyReLU(negative_slope=0.01)\n",
      "      (4): BatchNorm2d(16, eps=1e-05, momentum=0.1, affine=True, track_running_stats=True)\n",
      "      (5): ConvTranspose2d(16, 32, kernel_size=(3, 3), stride=(3, 3), padding=(1, 1))\n",
      "      (6): BatchNorm2d(32, eps=1e-05, momentum=0.1, affine=True, track_running_stats=True)\n",
      "      (7): ConvTranspose2d(32, 1, kernel_size=(3, 3), stride=(3, 3), padding=(1, 1))\n",
      "      (8): BatchNorm2d(1, eps=1e-05, momentum=0.1, affine=True, track_running_stats=True)\n",
      "      (9): LeakyReLU(negative_slope=0.01)\n",
      "      (10): Sigmoid()\n",
      "    )\n",
      "  )\n",
      ")\n",
      "\n",
      "VAE TRAINING\n",
      "\n",
      "Epoch: 0, Iteration: 1875, Validation loss: 1155.0753, Validation KL_div 3.0812, Validation reconstruction loss -1151.994\n",
      "Epoch: 0, Iteration: 3750, Validation loss: 1105.0686, Validation KL_div 2.2498, Validation reconstruction loss -1102.8185\n"
     ]
    }
   ],
   "source": [
    "torch.manual_seed(1)\n",
    "\"\"\" GENERATIVE VAE ROUTINE\"\"\"\n",
    "batch_size = 16\n",
    "data_object = StackedMNISTData(\n",
    "    mode=DataMode.MONO_FLOAT_COMPLETE,\n",
    "    default_batch_size=batch_size)\n",
    "net = VerificationNet(force_learn=False)\n",
    "net.train(\n",
    "    generator=data_object,\n",
    "    epochs=5)  # gen=data_object, makes sure we test on the same type of data as the model was trained on\n",
    "verification_tolerance = 0.8 if data_object.channels == 1 else 0.5\n",
    "\n",
    "learning_rate = 1.0e-1\n",
    "loss_function = 'elbo'\n",
    "optimizer = 'adam'\n",
    "epochs = 20\n",
    "\n",
    "latent_vector_size = 256\n",
    "num_samples = 2000\n",
    "gen_name = 'High_lr'\n",
    "gen_vae_save_path = f'checkpoints/gen_VAE/{gen_name}'\n",
    "vae_routine = VAE_Routine(\n",
    "    data_object,\n",
    "    learning_rate,\n",
    "    loss_function,\n",
    "    optimizer,\n",
    "    epochs,\n",
    "    #\n",
    "    latent_vector_size,\n",
    "    batch_size,\n",
    "    num_samples,\n",
    "    gen_vae_save_path\n",
    ")\n",
    "\n",
    "vae_routine.train_vae()\n",
    "\n",
    "#Note, returned images, reconstructions and gen images are np arrays\n",
    "images, reconstructions, labels = vae_routine.reconstruct_test_data()\n",
    "# Check quality of reconstructions:\n",
    "print('CHECKING RECONSTRUCTED IMAGES QUALITY')\n",
    "print(f'Number of reconstructions: {len(reconstructions)}')\n",
    "vae_routine.check_vae_performance(net, verification_tolerance, reconstructions, labels)\n",
    "# Check quality of generated images\n",
    "print('CHECKING GENERATED IMAGES QUALITY')\n",
    "generated_images = vae_routine.generate_samples()\n",
    "print(f'Number of reconstructions: {len(generated_images)}')\n",
    "vae_routine.check_vae_performance(net, verification_tolerance, generated_images)"
   ]
  },
  {
   "cell_type": "code",
   "execution_count": null,
   "id": "refined-intersection",
   "metadata": {},
   "outputs": [],
   "source": []
  }
 ],
 "metadata": {
  "kernelspec": {
   "display_name": "Python 3",
   "language": "python",
   "name": "python3"
  },
  "language_info": {
   "codemirror_mode": {
    "name": "ipython",
    "version": 3
   },
   "file_extension": ".py",
   "mimetype": "text/x-python",
   "name": "python",
   "nbconvert_exporter": "python",
   "pygments_lexer": "ipython3",
   "version": "3.8.5"
  }
 },
 "nbformat": 4,
 "nbformat_minor": 5
}
